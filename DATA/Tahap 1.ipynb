{
 "cells": [
  {
   "cell_type": "code",
   "execution_count": 10,
   "metadata": {},
   "outputs": [],
   "source": [
    "import pandas as pd"
   ]
  },
  {
   "cell_type": "code",
   "execution_count": 12,
   "metadata": {},
   "outputs": [
    {
     "data": {
      "text/plain": [
       "0"
      ]
     },
     "execution_count": 12,
     "metadata": {},
     "output_type": "execute_result"
    }
   ],
   "source": [
    "import os\n",
    "\n",
    "path = r'D:\\github\\python\\sona\\DATA\\all' #membaca isi folder all\n",
    "\n",
    "files = []\n",
    "# r=root, d=directories, f = files\n",
    "for r, d, f in os.walk(path):     #proses pengambilan data pada setiap file pada folder all\n",
    "    for file in f:\n",
    "        if '.xls' in file:\n",
    "            files.append(os.path.join(r, file))\n",
    "\n",
    "# for f in files:\n",
    "#     print(f)\n",
    "len(files)"
   ]
  },
  {
   "cell_type": "code",
   "execution_count": 9,
   "metadata": {},
   "outputs": [],
   "source": [
    "barang_tr = list()\n",
    "tanggal_tr = list()\n",
    "transaksi = list()\n",
    "\n",
    "for al in files:\n",
    "    foo = pd.read_excel(al)\n",
    "    tangal = foo[\"Maharani\"].tolist() #mengambil atribut tgl,no transaksi, nama barang\n",
    "    nomer_transaksi = foo[\"Unnamed: 2\"].tolist()\n",
    "    nama_barang = foo[\"Unnamed: 3\"].tolist()\n",
    "    for i, j, k in zip(tangal, nomer_transaksi, nama_barang):\n",
    "        if j != \"nan \":\n",
    "            if type(i) is not float:\n",
    "                if type(i) == int:\n",
    "                    transaksi.append(k)\n",
    "                elif type(i) is str:\n",
    "                    barang_tr.append(transaksi)\n",
    "                    tanggal_tr.append(i)\n",
    "                    transaksi=list()"
   ]
  },
  {
   "cell_type": "code",
   "execution_count": 4,
   "metadata": {},
   "outputs": [],
   "source": [
    "tanggal_trn = list()\n",
    "barang_trn = list()\n",
    "for i, j in zip(tanggal_tr, barang_tr):\n",
    "    if len(j)!=0:\n",
    "        j = \", \".join(j)\n",
    "        tanggal_trn.append(i)\n",
    "        barang_trn .append(j)\n",
    "temp = list()\n",
    "for i, tgl in enumerate (tanggal_trn):   #cleaning tahap 1\n",
    "    if tgl == \"Maharani\" or tgl == 'Laporan Data Penjualan Per Transaksi':\n",
    "        tgl = tanggal_trn[i-1]\n",
    "        temp.append(tgl)\n",
    "    else:\n",
    "        temp.append(tgl)\n",
    "tanggal_trn = temp "
   ]
  },
  {
   "cell_type": "code",
   "execution_count": 5,
   "metadata": {},
   "outputs": [],
   "source": [
    "dc = {\n",
    "    'tanggal':tanggal_trn,\n",
    "    'barang':barang_trn\n",
    "}\n",
    "df = pd.DataFrame.from_dict(dc)\n",
    "df.to_excel(\"hasil_3+tambahan.xlsx\")"
   ]
  }
 ],
 "metadata": {
  "kernelspec": {
   "display_name": "Python 3",
   "language": "python",
   "name": "python3"
  },
  "language_info": {
   "codemirror_mode": {
    "name": "ipython",
    "version": 3
   },
   "file_extension": ".py",
   "mimetype": "text/x-python",
   "name": "python",
   "nbconvert_exporter": "python",
   "pygments_lexer": "ipython3",
   "version": "3.7.3"
  }
 },
 "nbformat": 4,
 "nbformat_minor": 2
}
