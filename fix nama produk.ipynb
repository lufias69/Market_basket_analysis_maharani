{
 "cells": [
  {
   "cell_type": "code",
   "execution_count": 4,
   "metadata": {},
   "outputs": [],
   "source": [
    "import pandas as pd\n",
    "data = pd.read_excel(\"nama_produk.xlsx\")\n",
    "nama = data['nama produk'].tolist()\n",
    "ganti = data['ganti'].tolist()\n",
    "\n",
    "dictionary = dict(zip(nama, ganti))\n",
    "dictionary\n",
    "\n",
    "def fixNamaBarangAll(ls):\n",
    "    ls = ls.split(\",\")\n",
    "    for i, kt in enumerate(ls):\n",
    "        try:\n",
    "            ls[i] = dictionary[kt]\n",
    "        except:\n",
    "            pass\n",
    "    return \",\".join(ls)\n",
    "\n",
    "def fixNamaBarang(ls):\n",
    "    try:\n",
    "        ls = dictionary[ls]\n",
    "    except:\n",
    "        pass\n",
    "    return ls"
   ]
  },
  {
   "cell_type": "code",
   "execution_count": 11,
   "metadata": {},
   "outputs": [
    {
     "data": {
      "text/plain": [
       "'soft drink'"
      ]
     },
     "execution_count": 11,
     "metadata": {},
     "output_type": "execute_result"
    }
   ],
   "source": [
    "fixNamaBarang(\"abc asam jawa 250ml/24\")"
   ]
  },
  {
   "cell_type": "code",
   "execution_count": 1,
   "metadata": {},
   "outputs": [],
   "source": [
    "from fix_namabarang import fix"
   ]
  },
  {
   "cell_type": "code",
   "execution_count": 3,
   "metadata": {},
   "outputs": [
    {
     "data": {
      "text/plain": [
       "'soft drink,perlengkapan bayi'"
      ]
     },
     "execution_count": 3,
     "metadata": {},
     "output_type": "execute_result"
    }
   ],
   "source": [
    "fix.fixNamaBarangAll(\"abc asam jawa 250ml/24, zwitsal shampo clsc\")"
   ]
  }
 ],
 "metadata": {
  "kernelspec": {
   "display_name": "Python 3",
   "language": "python",
   "name": "python3"
  },
  "language_info": {
   "codemirror_mode": {
    "name": "ipython",
    "version": 3
   },
   "file_extension": ".py",
   "mimetype": "text/x-python",
   "name": "python",
   "nbconvert_exporter": "python",
   "pygments_lexer": "ipython3",
   "version": "3.7.3"
  }
 },
 "nbformat": 4,
 "nbformat_minor": 2
}
